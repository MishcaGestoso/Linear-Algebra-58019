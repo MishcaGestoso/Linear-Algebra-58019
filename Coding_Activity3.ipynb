{
  "nbformat": 4,
  "nbformat_minor": 0,
  "metadata": {
    "colab": {
      "name": "Coding Activity3.ipynb",
      "provenance": [],
      "authorship_tag": "ABX9TyM8Jihcqkrplh2xJyxtA7Ix",
      "include_colab_link": true
    },
    "kernelspec": {
      "name": "python3",
      "display_name": "Python 3"
    },
    "language_info": {
      "name": "python"
    }
  },
  "cells": [
    {
      "cell_type": "markdown",
      "metadata": {
        "id": "view-in-github",
        "colab_type": "text"
      },
      "source": [
        "<a href=\"https://colab.research.google.com/github/MishcaGestoso/Linear-Algebra-58019/blob/main/Coding_Activity3.ipynb\" target=\"_parent\"><img src=\"https://colab.research.google.com/assets/colab-badge.svg\" alt=\"Open In Colab\"/></a>"
      ]
    },
    {
      "cell_type": "code",
      "metadata": {
        "colab": {
          "base_uri": "https://localhost:8080/"
        },
        "id": "BCHuFkDyROET",
        "outputId": "8d0bd4ec-5fb2-4d54-fab2-ee5041bde96e"
      },
      "source": [
        "import numpy as np\n",
        "A = np.array([[[4,10,8],[10,26,26],[8,26,61]]]) #creation of matrix A\n",
        "print (A)\n",
        "inv_A= np.linalg.inv(A)\n",
        "print (inv_A)"
      ],
      "execution_count": 1,
      "outputs": [
        {
          "output_type": "stream",
          "name": "stdout",
          "text": [
            "[[[ 4 10  8]\n",
            "  [10 26 26]\n",
            "  [ 8 26 61]]]\n",
            "[[[ 25.27777778 -11.16666667   1.44444444]\n",
            "  [-11.16666667   5.          -0.66666667]\n",
            "  [  1.44444444  -0.66666667   0.11111111]]]\n"
          ]
        }
      ]
    },
    {
      "cell_type": "code",
      "metadata": {
        "colab": {
          "base_uri": "https://localhost:8080/"
        },
        "id": "-BUDsXOsRuzB",
        "outputId": "4cbfa298-0e34-4f42-ed36-7bd0258e5a6f"
      },
      "source": [
        "B = np.array([[[44],[128],[214]]])\n",
        "print(B)"
      ],
      "execution_count": 2,
      "outputs": [
        {
          "output_type": "stream",
          "name": "stdout",
          "text": [
            "[[[ 44]\n",
            "  [128]\n",
            "  [214]]]\n"
          ]
        }
      ]
    },
    {
      "cell_type": "code",
      "metadata": {
        "colab": {
          "base_uri": "https://localhost:8080/"
        },
        "id": "mynXN7J3R4x0",
        "outputId": "32764ec6-c493-44aa-bef9-72e9de9a062a"
      },
      "source": [
        "X = np.linalg.inv(A).dot(B)\n",
        "print(B)"
      ],
      "execution_count": 3,
      "outputs": [
        {
          "output_type": "stream",
          "name": "stdout",
          "text": [
            "[[[ 44]\n",
            "  [128]\n",
            "  [214]]]\n"
          ]
        }
      ]
    },
    {
      "cell_type": "code",
      "metadata": {
        "colab": {
          "base_uri": "https://localhost:8080/"
        },
        "id": "P5_aMu7RSBKl",
        "outputId": "d02405d1-d3c7-4c54-b6c4-c1f7d1b73804"
      },
      "source": [
        "X = np.dot(inv_A,B)\n",
        "print(X)"
      ],
      "execution_count": 4,
      "outputs": [
        {
          "output_type": "stream",
          "name": "stdout",
          "text": [
            "[[[[-8.]]\n",
            "\n",
            "  [[ 6.]]\n",
            "\n",
            "  [[ 2.]]]]\n"
          ]
        }
      ]
    }
  ]
}