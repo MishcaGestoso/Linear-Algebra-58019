{
  "nbformat": 4,
  "nbformat_minor": 0,
  "metadata": {
    "colab": {
      "name": "Practical Lab Exam 1",
      "provenance": [],
      "authorship_tag": "ABX9TyOTHcwH6BgmD6VsmLdwh2Nx",
      "include_colab_link": true
    },
    "kernelspec": {
      "name": "python3",
      "display_name": "Python 3"
    },
    "language_info": {
      "name": "python"
    }
  },
  "cells": [
    {
      "cell_type": "markdown",
      "metadata": {
        "id": "view-in-github",
        "colab_type": "text"
      },
      "source": [
        "<a href=\"https://colab.research.google.com/github/MishcaGestoso/Linear-Algebra-58019/blob/main/Practical_Lab_Exam_1.ipynb\" target=\"_parent\"><img src=\"https://colab.research.google.com/assets/colab-badge.svg\" alt=\"Open In Colab\"/></a>"
      ]
    },
    {
      "cell_type": "markdown",
      "metadata": {
        "id": "d-xWnMfjoIXS"
      },
      "source": [
        "##Practical Lab Exam 1"
      ]
    },
    {
      "cell_type": "markdown",
      "metadata": {
        "id": "o1B-4P4CuQQl"
      },
      "source": [
        "##Problem 1"
      ]
    },
    {
      "cell_type": "code",
      "metadata": {
        "colab": {
          "base_uri": "https://localhost:8080/"
        },
        "id": "84RKr3k_lOqU",
        "outputId": "ff20caf6-1f26-4767-d13a-b61344bb7441"
      },
      "source": [
        "import numpy as np\n",
        "A = np.array ([[1,2,3],[4,5,6]]) #This is matrix A\n",
        "print(A)\n",
        "\n",
        "B = np.array ([[1,2],[3,4],[5,6]]) #This is matrix B\n",
        "print(B)\n",
        "\n",
        "C = np.array ([[1,2,3],[4,5,6],[7,8,9]]) #This is matrix C\n",
        "print(C)\n",
        "\n",
        "D = np.array ([[1,2],[3,4]]) #This is matrix D\n",
        "print(D)"
      ],
      "execution_count": 7,
      "outputs": [
        {
          "output_type": "stream",
          "name": "stdout",
          "text": [
            "[[1 2 3]\n",
            " [4 5 6]]\n",
            "[[1 2]\n",
            " [3 4]\n",
            " [5 6]]\n",
            "[[1 2 3]\n",
            " [4 5 6]\n",
            " [7 8 9]]\n",
            "[[1 2]\n",
            " [3 4]]\n"
          ]
        }
      ]
    },
    {
      "cell_type": "markdown",
      "metadata": {
        "id": "rd7iWHhbrOpg"
      },
      "source": [
        "##A. AB"
      ]
    },
    {
      "cell_type": "code",
      "metadata": {
        "colab": {
          "base_uri": "https://localhost:8080/"
        },
        "id": "wSdyTLB_rVlA",
        "outputId": "c8ae79ad-afe4-4a0e-efe7-eb17cb38dd84"
      },
      "source": [
        "import numpy as np\n",
        "A = np.array ([[1,2,3],[4,5,6]])\n",
        "B = np.array ([[1,2],[3,4],[5,6]])\n",
        "dot = np.dot(A,B)\n",
        "print(dot)"
      ],
      "execution_count": 16,
      "outputs": [
        {
          "output_type": "stream",
          "name": "stdout",
          "text": [
            "[[22 28]\n",
            " [49 64]]\n"
          ]
        }
      ]
    },
    {
      "cell_type": "markdown",
      "metadata": {
        "id": "W_4OMOZMsSMV"
      },
      "source": [
        "##B. D +  D"
      ]
    },
    {
      "cell_type": "code",
      "metadata": {
        "colab": {
          "base_uri": "https://localhost:8080/"
        },
        "id": "obHzxcWtsc0S",
        "outputId": "9fe0daf1-f66b-4d4c-a4dc-82078a78b435"
      },
      "source": [
        "import numpy as np\n",
        "D = np.array ([[1,2],[3,4]])\n",
        "print(D+D)"
      ],
      "execution_count": 17,
      "outputs": [
        {
          "output_type": "stream",
          "name": "stdout",
          "text": [
            "[[2 4]\n",
            " [6 8]]\n"
          ]
        }
      ]
    },
    {
      "cell_type": "markdown",
      "metadata": {
        "id": "iaHvCjk0s5TY"
      },
      "source": [
        "##C. 2C"
      ]
    },
    {
      "cell_type": "code",
      "metadata": {
        "colab": {
          "base_uri": "https://localhost:8080/"
        },
        "id": "7YPyx3Bis9w3",
        "outputId": "c40ad95d-ff67-4771-ab2c-796af995af36"
      },
      "source": [
        "import numpy as np\n",
        "C = np.array ([[1,2,3],[4,5,6],[7,8,9]])\n",
        "print(2*C)\n"
      ],
      "execution_count": 18,
      "outputs": [
        {
          "output_type": "stream",
          "name": "stdout",
          "text": [
            "[[ 2  4  6]\n",
            " [ 8 10 12]\n",
            " [14 16 18]]\n"
          ]
        }
      ]
    },
    {
      "cell_type": "markdown",
      "metadata": {
        "id": "FFuHV7JPuVsw"
      },
      "source": [
        "##Problem 2"
      ]
    },
    {
      "cell_type": "code",
      "metadata": {
        "colab": {
          "base_uri": "https://localhost:8080/"
        },
        "id": "XCYaEbH80cMB",
        "outputId": "3c87a063-4c6c-42ca-9532-6b45f09f21f9"
      },
      "source": [
        "import numpy as np\n",
        "X = np.array([5,3,-1])\n",
        "\n",
        "print(X)\n",
        "print('\\nType of array:', type(X))\n",
        "print('Size of array:', X.size)\n",
        "print('Shape of array:', X.shape)\n",
        "print('Dimension of array:', X.ndim)\n"
      ],
      "execution_count": 28,
      "outputs": [
        {
          "output_type": "stream",
          "name": "stdout",
          "text": [
            "[ 5  3 -1]\n",
            "\n",
            "Type of array: <class 'numpy.ndarray'>\n",
            "Size of array: 3\n",
            "Shape of array: (3,)\n",
            "Dimension of array: 1\n"
          ]
        }
      ]
    }
  ]
}