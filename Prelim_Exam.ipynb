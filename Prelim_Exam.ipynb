{
  "nbformat": 4,
  "nbformat_minor": 0,
  "metadata": {
    "colab": {
      "name": "Prelim Exam.ipynb",
      "provenance": [],
      "authorship_tag": "ABX9TyOhE0jD7/uO9rS4PRf5bHdg",
      "include_colab_link": true
    },
    "kernelspec": {
      "name": "python3",
      "display_name": "Python 3"
    },
    "language_info": {
      "name": "python"
    }
  },
  "cells": [
    {
      "cell_type": "markdown",
      "metadata": {
        "id": "view-in-github",
        "colab_type": "text"
      },
      "source": [
        "<a href=\"https://colab.research.google.com/github/MishcaGestoso/Linear-Algebra-58019/blob/main/Prelim_Exam.ipynb\" target=\"_parent\"><img src=\"https://colab.research.google.com/assets/colab-badge.svg\" alt=\"Open In Colab\"/></a>"
      ]
    },
    {
      "cell_type": "markdown",
      "metadata": {
        "id": "Yl_MriARjE5v"
      },
      "source": [
        "###Prelim Exam"
      ]
    },
    {
      "cell_type": "markdown",
      "metadata": {
        "id": "DNUwoYgsjQLo"
      },
      "source": [
        "Question 1.\n",
        "A 4 x 4 matrix whose diagonal elements are all one (1's)"
      ]
    },
    {
      "cell_type": "code",
      "metadata": {
        "colab": {
          "base_uri": "https://localhost:8080/"
        },
        "id": "8SW5hBUBjafg",
        "outputId": "66ce2294-9130-4876-ff6f-ada424c9b31b"
      },
      "source": [
        "import numpy as np\n",
        "A = np.array([1,1,1,1,])\n",
        "C = np.diag(A)\n",
        "print (C)"
      ],
      "execution_count": 6,
      "outputs": [
        {
          "output_type": "stream",
          "name": "stdout",
          "text": [
            "[[1 0 0 0]\n",
            " [0 1 0 0]\n",
            " [0 0 1 0]\n",
            " [0 0 0 1]]\n"
          ]
        }
      ]
    },
    {
      "cell_type": "markdown",
      "metadata": {
        "id": "1k3ENDpFlTw7"
      },
      "source": [
        "Question 2. show a solution that doubles all the values of each element."
      ]
    },
    {
      "cell_type": "code",
      "metadata": {
        "colab": {
          "base_uri": "https://localhost:8080/"
        },
        "id": "qtZkXPeildSs",
        "outputId": "b2ca6142-5ecd-4f92-dfa1-f5b715e85e7a"
      },
      "source": [
        "import numpy as np\n",
        "A = np.array([1, 1, 1, 1])\n",
        "B = np.diag(A)\n",
        "print (C*2)\n"
      ],
      "execution_count": 9,
      "outputs": [
        {
          "output_type": "stream",
          "name": "stdout",
          "text": [
            "[[2 0 0 0]\n",
            " [0 2 0 0]\n",
            " [0 0 2 0]\n",
            " [0 0 0 2]]\n"
          ]
        }
      ]
    },
    {
      "cell_type": "markdown",
      "metadata": {
        "id": "O1EdYdDXmXU2"
      },
      "source": [
        "Question 3. the cross-product of matrices, A = [2,7,4] and B = [3,9,8]\n",
        "\n"
      ]
    },
    {
      "cell_type": "code",
      "metadata": {
        "colab": {
          "base_uri": "https://localhost:8080/"
        },
        "id": "lfkrevH3nhVt",
        "outputId": "041f8c8d-a438-4364-baa9-8fbbddb5da0c"
      },
      "source": [
        "import numpy as np\n",
        "A = np.array([2, 7, 4])\n",
        "B = np.array([3, 9, 8])\n",
        "cross = np.cross(A,B)\n",
        "print(cross)"
      ],
      "execution_count": 7,
      "outputs": [
        {
          "output_type": "stream",
          "name": "stdout",
          "text": [
            "[20 -4 -3]\n"
          ]
        }
      ]
    }
  ]
}