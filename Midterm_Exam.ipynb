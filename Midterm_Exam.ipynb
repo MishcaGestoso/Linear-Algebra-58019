{
  "nbformat": 4,
  "nbformat_minor": 0,
  "metadata": {
    "colab": {
      "name": "Midterm Exam",
      "provenance": [],
      "authorship_tag": "ABX9TyPV2IyCNNoTpgJj8ou1P5J6",
      "include_colab_link": true
    },
    "kernelspec": {
      "name": "python3",
      "display_name": "Python 3"
    },
    "language_info": {
      "name": "python"
    }
  },
  "cells": [
    {
      "cell_type": "markdown",
      "metadata": {
        "id": "view-in-github",
        "colab_type": "text"
      },
      "source": [
        "<a href=\"https://colab.research.google.com/github/MishcaGestoso/Linear-Algebra-58019/blob/main/Midterm_Exam.ipynb\" target=\"_parent\"><img src=\"https://colab.research.google.com/assets/colab-badge.svg\" alt=\"Open In Colab\"/></a>"
      ]
    },
    {
      "cell_type": "markdown",
      "metadata": {
        "id": "UDJh3JsH6loE"
      },
      "source": [
        "Question 1. Create a Python code that displays a square matrix whose length is 5 "
      ]
    },
    {
      "cell_type": "code",
      "metadata": {
        "colab": {
          "base_uri": "https://localhost:8080/"
        },
        "id": "oGFmY3z56n6L",
        "outputId": "f0f33609-6c17-49be-bdc1-ee14b708bfea"
      },
      "source": [
        "import numpy as np #import Library\n",
        "#A square matrix has the same length and breadth, it is a 5x5 matrix.\n",
        "\n",
        "SquareMatrix = np.array ([[1,2,3,4,5],[2,0,0,0,0],[3,0,0,0,0],[4,0,0,0,0],[5,0,0,0,0]]) #5x5 matrix\n",
        "\n",
        "print(\"This is an example of square matrix whose length is 5\")\n",
        "print() #this is for spacing and also optional\n",
        "print(SquareMatrix) "
      ],
      "execution_count": 21,
      "outputs": [
        {
          "output_type": "stream",
          "name": "stdout",
          "text": [
            "This is an example of square matrix whose length is 5\n",
            "\n",
            "[[1 2 3 4 5]\n",
            " [2 0 0 0 0]\n",
            " [3 0 0 0 0]\n",
            " [4 0 0 0 0]\n",
            " [5 0 0 0 0]]\n"
          ]
        }
      ]
    },
    {
      "cell_type": "markdown",
      "metadata": {
        "id": "URiKBEQD60OB"
      },
      "source": [
        "Question 2. Create a Python code that displays a square matrix whose elements below the principal diagonal are zero"
      ]
    },
    {
      "cell_type": "code",
      "metadata": {
        "colab": {
          "base_uri": "https://localhost:8080/"
        },
        "id": "5uQKykwoCYi7",
        "outputId": "6e1e7cb2-c677-490b-b7ea-ac883406590a"
      },
      "source": [
        "import numpy as np\n",
        "C = np.triu([[1,2,3],[2,4,6],[3,6,9,]])\n",
        "print(C)"
      ],
      "execution_count": 19,
      "outputs": [
        {
          "output_type": "stream",
          "name": "stdout",
          "text": [
            "[[1 2 3]\n",
            " [0 4 6]\n",
            " [0 0 9]]\n"
          ]
        }
      ]
    },
    {
      "cell_type": "markdown",
      "metadata": {
        "id": "tB-IRFAO69e-"
      },
      "source": [
        "Question 3. Create a Python code that displays a square matrix which is symmetrical "
      ]
    },
    {
      "cell_type": "code",
      "metadata": {
        "colab": {
          "base_uri": "https://localhost:8080/"
        },
        "id": "5HB0ycNh7CQm",
        "outputId": "7d90eb56-2172-4002-c3db-d9075fcedea7"
      },
      "source": [
        "import numpy as np\n",
        "square_matrix = np.array([[1,2,3,4,5],[2,1,2,3,4],[3,2,1,2,3],[4,3,2,1,2],[5,4,3,2,1]]) #Creation of a 5x5 matrix named as square matrix\n",
        "print('A square matrix which is symmetrical: ') #Text message indicating the result\n",
        "print(square_matrix) #Displays the final output"
      ],
      "execution_count": 25,
      "outputs": [
        {
          "output_type": "stream",
          "name": "stdout",
          "text": [
            "A square matrix which is symmetrical: \n",
            "[[1 2 3 4 5]\n",
            " [2 1 2 3 4]\n",
            " [3 2 1 2 3]\n",
            " [4 3 2 1 2]\n",
            " [5 4 3 2 1]]\n"
          ]
        }
      ]
    },
    {
      "cell_type": "markdown",
      "metadata": {
        "id": "2pIA5lEx7CxY"
      },
      "source": [
        "Question 4. What is the inverse of matrix C? Show your solution by python coding.  "
      ]
    },
    {
      "cell_type": "code",
      "metadata": {
        "colab": {
          "base_uri": "https://localhost:8080/"
        },
        "id": "2SV4vfWZ7PPO",
        "outputId": "8875df48-14a0-4469-c195-a41acb1d792f"
      },
      "source": [
        "import numpy as np\n",
        "C = np.array ([[1,2,3],[2,3,3],[3,4,-2]]) #The matrix of C\n",
        "\n",
        "invC = np.linalg.inv(C)\n",
        "\n",
        "print(\"Inverse of Matrix C:\")\n",
        "print(invC) #print the inverse of C"
      ],
      "execution_count": 10,
      "outputs": [
        {
          "output_type": "stream",
          "name": "stdout",
          "text": [
            "Inverse of Matrix C:\n",
            "[[-3.6  3.2 -0.6]\n",
            " [ 2.6 -2.2  0.6]\n",
            " [-0.2  0.4 -0.2]]\n"
          ]
        }
      ]
    },
    {
      "cell_type": "markdown",
      "metadata": {
        "id": "VUTaxx3s7Pmw"
      },
      "source": [
        "Question 5. What is the determinant of the given matrix in Question 4? Show your solution by python coding. "
      ]
    },
    {
      "cell_type": "code",
      "metadata": {
        "colab": {
          "base_uri": "https://localhost:8080/"
        },
        "id": "LHiB4z5d7TbN",
        "outputId": "4a095f8c-1150-45c1-aa9b-67a23323fbcd"
      },
      "source": [
        "import numpy as np\n",
        "C = np.array ([[1,2,3],[2,3,3],[3,4,-2]])\n",
        "\n",
        "detOfC = np.linalg.det(C)\n",
        "\n",
        "print(\"The determinant of the given matrix in Question 4:\")\n",
        "print(int(detOfC)) #print the determinant of C"
      ],
      "execution_count": 14,
      "outputs": [
        {
          "output_type": "stream",
          "name": "stdout",
          "text": [
            "The determinant of the given matrix in Question 4:\n",
            "5\n"
          ]
        }
      ]
    },
    {
      "cell_type": "markdown",
      "metadata": {
        "id": "ODpIm_2-7T7P"
      },
      "source": [
        "\n",
        "Question 6. Find the roots of the linear equations by showing its python codes"
      ]
    },
    {
      "cell_type": "code",
      "metadata": {
        "colab": {
          "base_uri": "https://localhost:8080/"
        },
        "id": "XyxDee4H9UGb",
        "outputId": "ea854516-fda4-4a9a-cc93-8090bf1b27fe"
      },
      "source": [
        "import numpy as np\n",
        "eq = np.array([[5,4,1],[10,9,4],[10,13,15]])\n",
        "\n",
        "const = np.array([[[3.4],[8.8],[19.2]]])\n",
        "\n",
        "roots = np.linalg.inv(eq) @ const\n",
        "\n",
        "print(\"Roots of the given linear equations:\")\n",
        "print(roots)"
      ],
      "execution_count": 12,
      "outputs": [
        {
          "output_type": "stream",
          "name": "stdout",
          "text": [
            "Roots of the given linear equations:\n",
            "[[[0.2]\n",
            "  [0.4]\n",
            "  [0.8]]]\n"
          ]
        }
      ]
    }
  ]
}